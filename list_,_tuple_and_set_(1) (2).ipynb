{
  "cells": [
    {
      "cell_type": "code",
      "execution_count": null,
      "id": "c7bbeb48-2684-44ff-a1d2-5b57584b08b7",
      "metadata": {
        "id": "c7bbeb48-2684-44ff-a1d2-5b57584b08b7"
      },
      "outputs": [],
      "source": [
        "l =[1,345,45,\"sudh\" ,True ,5+7j , 345.456]"
      ]
    },
    {
      "cell_type": "code",
      "execution_count": null,
      "id": "cbb8d0fb-b25a-4588-aac4-f9802795c51d",
      "metadata": {
        "id": "cbb8d0fb-b25a-4588-aac4-f9802795c51d",
        "outputId": "ef9c5aba-06d2-47fe-f13f-5f081539563f"
      },
      "outputs": [
        {
          "data": {
            "text/plain": [
              "5.0"
            ]
          },
          "execution_count": 206,
          "metadata": {},
          "output_type": "execute_result"
        }
      ],
      "source": [
        "l[5].real"
      ]
    },
    {
      "cell_type": "code",
      "execution_count": null,
      "id": "ec45fd4d-cbb3-421a-823a-bf87542ac44b",
      "metadata": {
        "id": "ec45fd4d-cbb3-421a-823a-bf87542ac44b"
      },
      "outputs": [],
      "source": []
    },
    {
      "cell_type": "code",
      "execution_count": null,
      "id": "1d912421-85c0-4b4a-97c7-f7db6a242c1e",
      "metadata": {
        "id": "1d912421-85c0-4b4a-97c7-f7db6a242c1e"
      },
      "outputs": [],
      "source": []
    },
    {
      "cell_type": "code",
      "execution_count": null,
      "id": "97208361-a180-4cb7-88a1-6e4df0254c9e",
      "metadata": {
        "id": "97208361-a180-4cb7-88a1-6e4df0254c9e",
        "outputId": "6da7fb5f-9475-422d-cf18-edd1e36b0c2b"
      },
      "outputs": [
        {
          "data": {
            "text/plain": [
              "list"
            ]
          },
          "execution_count": 3,
          "metadata": {},
          "output_type": "execute_result"
        }
      ],
      "source": [
        "type(l)"
      ]
    },
    {
      "cell_type": "code",
      "execution_count": null,
      "id": "187c5ba4-b042-4b24-bbbc-00c54b5ff2b0",
      "metadata": {
        "id": "187c5ba4-b042-4b24-bbbc-00c54b5ff2b0",
        "outputId": "bcce6779-dad4-4fee-f74e-1ef2624e924d"
      },
      "outputs": [
        {
          "data": {
            "text/plain": [
              "1"
            ]
          },
          "execution_count": 4,
          "metadata": {},
          "output_type": "execute_result"
        }
      ],
      "source": [
        "l[0]"
      ]
    },
    {
      "cell_type": "code",
      "execution_count": null,
      "id": "456cfc58-4de9-495c-adb8-408e87eb4fbd",
      "metadata": {
        "id": "456cfc58-4de9-495c-adb8-408e87eb4fbd",
        "outputId": "f5762c7b-06ff-4b56-9e6e-0ef9de6ad698"
      },
      "outputs": [
        {
          "data": {
            "text/plain": [
              "345.456"
            ]
          },
          "execution_count": 5,
          "metadata": {},
          "output_type": "execute_result"
        }
      ],
      "source": [
        "l[6]"
      ]
    },
    {
      "cell_type": "code",
      "execution_count": null,
      "id": "b55813bf-f44e-4863-a16c-04a8518fc6f8",
      "metadata": {
        "id": "b55813bf-f44e-4863-a16c-04a8518fc6f8",
        "outputId": "8a7740ea-e5fa-42d3-d012-59cb90ebd821"
      },
      "outputs": [
        {
          "ename": "IndexError",
          "evalue": "list index out of range",
          "output_type": "error",
          "traceback": [
            "\u001b[0;31m---------------------------------------------------------------------------\u001b[0m",
            "\u001b[0;31mIndexError\u001b[0m                                Traceback (most recent call last)",
            "Cell \u001b[0;32mIn[6], line 1\u001b[0m\n\u001b[0;32m----> 1\u001b[0m \u001b[43ml\u001b[49m\u001b[43m[\u001b[49m\u001b[38;5;241;43m90\u001b[39;49m\u001b[43m]\u001b[49m\n",
            "\u001b[0;31mIndexError\u001b[0m: list index out of range"
          ]
        }
      ],
      "source": [
        "l[90]"
      ]
    },
    {
      "cell_type": "code",
      "execution_count": null,
      "id": "f39b5ea3-6063-42ea-912c-c1a7a6e2a9d4",
      "metadata": {
        "id": "f39b5ea3-6063-42ea-912c-c1a7a6e2a9d4",
        "outputId": "2911a7f7-8fd7-4d30-c391-42be43440eca"
      },
      "outputs": [
        {
          "data": {
            "text/plain": [
              "[1, 345, 45, 'sudh', True, (5+7j), 345.456]"
            ]
          },
          "execution_count": 7,
          "metadata": {},
          "output_type": "execute_result"
        }
      ],
      "source": [
        "l"
      ]
    },
    {
      "cell_type": "code",
      "execution_count": null,
      "id": "3fb61b2d-83f8-415d-b639-9e768dd1ca9a",
      "metadata": {
        "id": "3fb61b2d-83f8-415d-b639-9e768dd1ca9a",
        "outputId": "5a0ef38c-8bfe-47f5-fed9-605bba583f37"
      },
      "outputs": [
        {
          "data": {
            "text/plain": [
              "[1, 345, 45]"
            ]
          },
          "execution_count": 8,
          "metadata": {},
          "output_type": "execute_result"
        }
      ],
      "source": [
        "l[0:3]"
      ]
    },
    {
      "cell_type": "code",
      "execution_count": null,
      "id": "143d0692-d2d2-4d5d-9ba7-d4ab3b053561",
      "metadata": {
        "id": "143d0692-d2d2-4d5d-9ba7-d4ab3b053561",
        "outputId": "c12d947c-951f-4c1a-a04f-86b05e6d070d"
      },
      "outputs": [
        {
          "data": {
            "text/plain": [
              "345.456"
            ]
          },
          "execution_count": 9,
          "metadata": {},
          "output_type": "execute_result"
        }
      ],
      "source": [
        "l[-1]"
      ]
    },
    {
      "cell_type": "code",
      "execution_count": null,
      "id": "72077b14-d777-454a-a6db-76e2156bde12",
      "metadata": {
        "id": "72077b14-d777-454a-a6db-76e2156bde12",
        "outputId": "e5ee1d73-7b95-4c01-91c6-c23f18657de0"
      },
      "outputs": [
        {
          "data": {
            "text/plain": [
              "[345.456, (5+7j), True, 'sudh', 45, 345, 1]"
            ]
          },
          "execution_count": 10,
          "metadata": {},
          "output_type": "execute_result"
        }
      ],
      "source": [
        "l[::-1]"
      ]
    },
    {
      "cell_type": "code",
      "execution_count": null,
      "id": "b9c75dfa-1935-4204-a87c-6106d35b679a",
      "metadata": {
        "id": "b9c75dfa-1935-4204-a87c-6106d35b679a",
        "outputId": "c9ee80f1-bd59-4ddc-f497-4d69d4e1c5d6"
      },
      "outputs": [
        {
          "data": {
            "text/plain": [
              "[1, 45, True, 345.456]"
            ]
          },
          "execution_count": 11,
          "metadata": {},
          "output_type": "execute_result"
        }
      ],
      "source": [
        "l[::2]"
      ]
    },
    {
      "cell_type": "code",
      "execution_count": null,
      "id": "92e7ef2d-a462-4522-b20d-c65e265b0a3d",
      "metadata": {
        "id": "92e7ef2d-a462-4522-b20d-c65e265b0a3d",
        "outputId": "6f835e03-2cb1-474c-f0d3-ee6f05eb4277"
      },
      "outputs": [
        {
          "data": {
            "text/plain": [
              "[1, 345, 45, 'sudh', True, (5+7j), 345.456]"
            ]
          },
          "execution_count": 12,
          "metadata": {},
          "output_type": "execute_result"
        }
      ],
      "source": [
        "l"
      ]
    },
    {
      "cell_type": "code",
      "execution_count": null,
      "id": "30885a98-4b66-4bae-a7a1-108db08ea7f4",
      "metadata": {
        "id": "30885a98-4b66-4bae-a7a1-108db08ea7f4"
      },
      "outputs": [],
      "source": [
        "s = \"pwskills\""
      ]
    },
    {
      "cell_type": "code",
      "execution_count": null,
      "id": "849ab546-4e87-4647-bafa-f9f43beb222b",
      "metadata": {
        "id": "849ab546-4e87-4647-bafa-f9f43beb222b",
        "outputId": "1e2fe808-6801-4d35-e535-ac1a9a371ec4"
      },
      "outputs": [
        {
          "ename": "TypeError",
          "evalue": "can only concatenate list (not \"str\") to list",
          "output_type": "error",
          "traceback": [
            "\u001b[0;31m---------------------------------------------------------------------------\u001b[0m",
            "\u001b[0;31mTypeError\u001b[0m                                 Traceback (most recent call last)",
            "Cell \u001b[0;32mIn[14], line 1\u001b[0m\n\u001b[0;32m----> 1\u001b[0m \u001b[43ml\u001b[49m\u001b[38;5;241;43m+\u001b[39;49m\u001b[43ms\u001b[49m\n",
            "\u001b[0;31mTypeError\u001b[0m: can only concatenate list (not \"str\") to list"
          ]
        }
      ],
      "source": [
        "l+s"
      ]
    },
    {
      "cell_type": "code",
      "execution_count": null,
      "id": "afd051da-b034-4de3-aab9-4b891c5e2b31",
      "metadata": {
        "id": "afd051da-b034-4de3-aab9-4b891c5e2b31",
        "outputId": "bfbe79ba-f9a8-4ff8-9bb5-c193c4b179d9"
      },
      "outputs": [
        {
          "data": {
            "text/plain": [
              "['p',\n",
              " 'w',\n",
              " 's',\n",
              " 'k',\n",
              " 'i',\n",
              " 'l',\n",
              " 'l',\n",
              " 's',\n",
              " 1,\n",
              " 345,\n",
              " 45,\n",
              " 'sudh',\n",
              " True,\n",
              " (5+7j),\n",
              " 345.456]"
            ]
          },
          "execution_count": 16,
          "metadata": {},
          "output_type": "execute_result"
        }
      ],
      "source": [
        "list(s) + l"
      ]
    },
    {
      "cell_type": "code",
      "execution_count": null,
      "id": "539d21e3-c7c4-4200-9df0-ca6c17f11b85",
      "metadata": {
        "id": "539d21e3-c7c4-4200-9df0-ca6c17f11b85",
        "outputId": "3a0e4f00-c7c2-4fb0-ec7b-3a9c0dd5ec77"
      },
      "outputs": [
        {
          "data": {
            "text/plain": [
              "[1, 345, 45, 'sudh', True, (5+7j), 345.456]"
            ]
          },
          "execution_count": 17,
          "metadata": {},
          "output_type": "execute_result"
        }
      ],
      "source": [
        "l"
      ]
    },
    {
      "cell_type": "code",
      "execution_count": null,
      "id": "ec088a2a-b780-4d05-862e-403ad15fca75",
      "metadata": {
        "id": "ec088a2a-b780-4d05-862e-403ad15fca75",
        "outputId": "c9d8cb2d-7879-452a-ae51-beddd7133396"
      },
      "outputs": [
        {
          "data": {
            "text/plain": [
              "str"
            ]
          },
          "execution_count": 19,
          "metadata": {},
          "output_type": "execute_result"
        }
      ],
      "source": [
        "type(l[3])"
      ]
    },
    {
      "cell_type": "code",
      "execution_count": null,
      "id": "93d5626b-48f4-46ca-a66a-3ba2a0221199",
      "metadata": {
        "id": "93d5626b-48f4-46ca-a66a-3ba2a0221199",
        "outputId": "9b3a165c-865d-4244-a51c-d55fce7f6739"
      },
      "outputs": [
        {
          "data": {
            "text/plain": [
              "'su'"
            ]
          },
          "execution_count": 21,
          "metadata": {},
          "output_type": "execute_result"
        }
      ],
      "source": [
        "l[3][0:2]"
      ]
    },
    {
      "cell_type": "code",
      "execution_count": null,
      "id": "95db1dcf-1765-49c6-86b7-f1a4f67e7282",
      "metadata": {
        "id": "95db1dcf-1765-49c6-86b7-f1a4f67e7282",
        "outputId": "d6e751b3-9dba-4aca-d02f-2e2aec2cc2e7"
      },
      "outputs": [
        {
          "data": {
            "text/plain": [
              "True"
            ]
          },
          "execution_count": 22,
          "metadata": {},
          "output_type": "execute_result"
        }
      ],
      "source": [
        "l[4]"
      ]
    },
    {
      "cell_type": "code",
      "execution_count": null,
      "id": "90485008-f7c0-4549-8de8-cae7513473e4",
      "metadata": {
        "id": "90485008-f7c0-4549-8de8-cae7513473e4",
        "outputId": "6e29e05c-14d2-4f83-af8c-3162a869f33f"
      },
      "outputs": [
        {
          "data": {
            "text/plain": [
              "'Tr'"
            ]
          },
          "execution_count": 24,
          "metadata": {},
          "output_type": "execute_result"
        }
      ],
      "source": [
        "str(l[4])[0:2]"
      ]
    },
    {
      "cell_type": "code",
      "execution_count": null,
      "id": "7ec63b6f-90f9-4237-bcaf-f1ff2648cdfc",
      "metadata": {
        "id": "7ec63b6f-90f9-4237-bcaf-f1ff2648cdfc",
        "outputId": "912c00db-3a0b-415f-b7cf-a021465ac7ba"
      },
      "outputs": [
        {
          "data": {
            "text/plain": [
              "[1, 345, 45, 'sudh', True, (5+7j), 345.456]"
            ]
          },
          "execution_count": 25,
          "metadata": {},
          "output_type": "execute_result"
        }
      ],
      "source": [
        "l"
      ]
    },
    {
      "cell_type": "code",
      "execution_count": null,
      "id": "4af6c594-2025-424f-ade3-ebc3f5d3f5dc",
      "metadata": {
        "id": "4af6c594-2025-424f-ade3-ebc3f5d3f5dc",
        "outputId": "13eab09c-3f11-4e45-935c-1d09f4ba2b44"
      },
      "outputs": [
        {
          "ename": "TypeError",
          "evalue": "can only concatenate list (not \"int\") to list",
          "output_type": "error",
          "traceback": [
            "\u001b[0;31m---------------------------------------------------------------------------\u001b[0m",
            "\u001b[0;31mTypeError\u001b[0m                                 Traceback (most recent call last)",
            "Cell \u001b[0;32mIn[26], line 1\u001b[0m\n\u001b[0;32m----> 1\u001b[0m \u001b[43ml\u001b[49m\u001b[38;5;241;43m+\u001b[39;49m\u001b[43m \u001b[49m\u001b[38;5;241;43m5\u001b[39;49m\n",
            "\u001b[0;31mTypeError\u001b[0m: can only concatenate list (not \"int\") to list"
          ]
        }
      ],
      "source": [
        "l+ 5"
      ]
    },
    {
      "cell_type": "code",
      "execution_count": null,
      "id": "97b79f8d-eb48-496b-9ead-ec5023d81012",
      "metadata": {
        "id": "97b79f8d-eb48-496b-9ead-ec5023d81012"
      },
      "outputs": [],
      "source": [
        "l1 = [3,4,5]"
      ]
    },
    {
      "cell_type": "code",
      "execution_count": null,
      "id": "69b5e226-e8a4-4db8-8ebd-26f32a1ed805",
      "metadata": {
        "id": "69b5e226-e8a4-4db8-8ebd-26f32a1ed805",
        "outputId": "a6ed005f-f00f-4337-f699-6cd9a2acbe51"
      },
      "outputs": [
        {
          "data": {
            "text/plain": [
              "[1, 345, 45, 'sudh', True, (5+7j), 345.456, 3, 4, 5]"
            ]
          },
          "execution_count": 28,
          "metadata": {},
          "output_type": "execute_result"
        }
      ],
      "source": [
        "l+ l1"
      ]
    },
    {
      "cell_type": "code",
      "execution_count": null,
      "id": "6925449d-cafd-4ba4-a851-c808d19a9a66",
      "metadata": {
        "id": "6925449d-cafd-4ba4-a851-c808d19a9a66",
        "outputId": "33a5b081-d4a5-4d7f-c367-bb30a38c9384"
      },
      "outputs": [
        {
          "data": {
            "text/plain": [
              "[3, 4, 5, 3, 4, 5, 3, 4, 5]"
            ]
          },
          "execution_count": 30,
          "metadata": {},
          "output_type": "execute_result"
        }
      ],
      "source": [
        "l1 * 3"
      ]
    },
    {
      "cell_type": "code",
      "execution_count": null,
      "id": "f68ae252-1cce-4c7b-b34b-b3318fc5254b",
      "metadata": {
        "id": "f68ae252-1cce-4c7b-b34b-b3318fc5254b",
        "outputId": "addb6dee-37cc-4750-d736-060ed7cd049b"
      },
      "outputs": [
        {
          "data": {
            "text/plain": [
              "[1, 345, 45, 'sudh', True, (5+7j), 345.456]"
            ]
          },
          "execution_count": 31,
          "metadata": {},
          "output_type": "execute_result"
        }
      ],
      "source": [
        "l"
      ]
    },
    {
      "cell_type": "code",
      "execution_count": null,
      "id": "f4ea3f7c-713d-40ca-8887-aac8a72c45bb",
      "metadata": {
        "id": "f4ea3f7c-713d-40ca-8887-aac8a72c45bb",
        "outputId": "ee8ed9f6-7f82-4dfe-cbbe-f4dd07161484"
      },
      "outputs": [
        {
          "data": {
            "text/plain": [
              "7"
            ]
          },
          "execution_count": 32,
          "metadata": {},
          "output_type": "execute_result"
        }
      ],
      "source": [
        "len(l)"
      ]
    },
    {
      "cell_type": "code",
      "execution_count": null,
      "id": "c1b4f6f2-e573-4a3e-a7d9-8c7ad9aef408",
      "metadata": {
        "id": "c1b4f6f2-e573-4a3e-a7d9-8c7ad9aef408",
        "outputId": "f4b9eaf7-3243-4af4-c5f9-5c6874c50422"
      },
      "outputs": [
        {
          "data": {
            "text/plain": [
              "[1, 345, 45, 'sudh', True, (5+7j), 345.456]"
            ]
          },
          "execution_count": 33,
          "metadata": {},
          "output_type": "execute_result"
        }
      ],
      "source": [
        "l"
      ]
    },
    {
      "cell_type": "code",
      "execution_count": null,
      "id": "ecbbbd73-0b17-4f51-bc30-b7385d53a6d6",
      "metadata": {
        "id": "ecbbbd73-0b17-4f51-bc30-b7385d53a6d6"
      },
      "outputs": [],
      "source": [
        "l.append(5)"
      ]
    },
    {
      "cell_type": "code",
      "execution_count": null,
      "id": "eb502875-594e-42d8-889b-f2aa4331e087",
      "metadata": {
        "id": "eb502875-594e-42d8-889b-f2aa4331e087",
        "outputId": "da57c2fd-8e3f-4775-ce1b-1319e187b69f"
      },
      "outputs": [
        {
          "data": {
            "text/plain": [
              "[1, 345, 45, 'sudh', True, (5+7j), 345.456, 5]"
            ]
          },
          "execution_count": 35,
          "metadata": {},
          "output_type": "execute_result"
        }
      ],
      "source": [
        "l"
      ]
    },
    {
      "cell_type": "code",
      "execution_count": null,
      "id": "95895183-7d30-4049-ba3f-01ea818f5dc6",
      "metadata": {
        "id": "95895183-7d30-4049-ba3f-01ea818f5dc6"
      },
      "outputs": [],
      "source": [
        "l.append(s)"
      ]
    },
    {
      "cell_type": "code",
      "execution_count": null,
      "id": "37133e37-d391-4599-a3a5-49ed5b552c8e",
      "metadata": {
        "id": "37133e37-d391-4599-a3a5-49ed5b552c8e",
        "outputId": "265bac01-a1fa-420f-a447-974765ae808d"
      },
      "outputs": [
        {
          "data": {
            "text/plain": [
              "'pwskills'"
            ]
          },
          "execution_count": 36,
          "metadata": {},
          "output_type": "execute_result"
        }
      ],
      "source": [
        "s"
      ]
    },
    {
      "cell_type": "code",
      "execution_count": null,
      "id": "260757a2-d534-4f3d-be0b-8ce47fc78610",
      "metadata": {
        "id": "260757a2-d534-4f3d-be0b-8ce47fc78610",
        "outputId": "4f575d46-c481-456f-e599-d14fe9ae2168"
      },
      "outputs": [
        {
          "data": {
            "text/plain": [
              "[1, 345, 45, 'sudh', True, (5+7j), 345.456, 5, 'pwskills']"
            ]
          },
          "execution_count": 38,
          "metadata": {},
          "output_type": "execute_result"
        }
      ],
      "source": [
        "l"
      ]
    },
    {
      "cell_type": "code",
      "execution_count": null,
      "id": "ad5dd049-4923-4bff-9156-21386c7d7598",
      "metadata": {
        "id": "ad5dd049-4923-4bff-9156-21386c7d7598",
        "outputId": "1fdfdc5c-c443-48ef-d9fc-bff4eccb7410"
      },
      "outputs": [
        {
          "data": {
            "text/plain": [
              "[1, 345, 45, 'sudh', True, (5+7j), 345.456, 5, 'pwskills']"
            ]
          },
          "execution_count": 39,
          "metadata": {},
          "output_type": "execute_result"
        }
      ],
      "source": [
        "l"
      ]
    },
    {
      "cell_type": "code",
      "execution_count": null,
      "id": "8fe6cf3d-2bf4-495c-bead-5b38f8ff787c",
      "metadata": {
        "id": "8fe6cf3d-2bf4-495c-bead-5b38f8ff787c",
        "outputId": "38f74a39-3cbe-4f06-e8bb-6db8de2c2806"
      },
      "outputs": [
        {
          "data": {
            "text/plain": [
              "[3, 4, 5]"
            ]
          },
          "execution_count": 40,
          "metadata": {},
          "output_type": "execute_result"
        }
      ],
      "source": [
        "l1"
      ]
    },
    {
      "cell_type": "code",
      "execution_count": null,
      "id": "f38591ef-06f1-4a57-a423-fafae2aa226d",
      "metadata": {
        "id": "f38591ef-06f1-4a57-a423-fafae2aa226d"
      },
      "outputs": [],
      "source": [
        "l.append(l1)"
      ]
    },
    {
      "cell_type": "code",
      "execution_count": null,
      "id": "35e9895b-0e04-457e-9b78-81fcaa655249",
      "metadata": {
        "id": "35e9895b-0e04-457e-9b78-81fcaa655249",
        "outputId": "5a89a2f2-a212-4b7d-fd62-bc10ac5bc132"
      },
      "outputs": [
        {
          "data": {
            "text/plain": [
              "[1, 345, 45, 'sudh', True, (5+7j), 345.456, 5, 'pwskills', [3, 4, 5]]"
            ]
          },
          "execution_count": 42,
          "metadata": {},
          "output_type": "execute_result"
        }
      ],
      "source": [
        "l"
      ]
    },
    {
      "cell_type": "code",
      "execution_count": null,
      "id": "7104ecee-587c-4288-b82b-74f206828109",
      "metadata": {
        "id": "7104ecee-587c-4288-b82b-74f206828109",
        "outputId": "3508b0fa-615c-484e-94a6-53e3f975ca8b"
      },
      "outputs": [
        {
          "data": {
            "text/plain": [
              "4"
            ]
          },
          "execution_count": 44,
          "metadata": {},
          "output_type": "execute_result"
        }
      ],
      "source": [
        "l[-1][1]"
      ]
    },
    {
      "cell_type": "code",
      "execution_count": null,
      "id": "84e31b8a-6fb3-4aa6-94f3-da2a45911b4f",
      "metadata": {
        "id": "84e31b8a-6fb3-4aa6-94f3-da2a45911b4f",
        "outputId": "6260532a-4cac-44ab-a3af-d224fad8bf56"
      },
      "outputs": [
        {
          "data": {
            "text/plain": [
              "[1, 345, 45, 'sudh', True, (5+7j), 345.456, 5, 'pwskills', [3, 4, 5]]"
            ]
          },
          "execution_count": 45,
          "metadata": {},
          "output_type": "execute_result"
        }
      ],
      "source": [
        "l"
      ]
    },
    {
      "cell_type": "code",
      "execution_count": null,
      "id": "a0353cc4-0920-41cb-a427-99126704c884",
      "metadata": {
        "id": "a0353cc4-0920-41cb-a427-99126704c884",
        "outputId": "d4836a3f-6d37-4375-b463-62ef73e028df"
      },
      "outputs": [
        {
          "ename": "TypeError",
          "evalue": "'int' object is not iterable",
          "output_type": "error",
          "traceback": [
            "\u001b[0;31m---------------------------------------------------------------------------\u001b[0m",
            "\u001b[0;31mTypeError\u001b[0m                                 Traceback (most recent call last)",
            "Cell \u001b[0;32mIn[46], line 1\u001b[0m\n\u001b[0;32m----> 1\u001b[0m \u001b[43ml\u001b[49m\u001b[38;5;241;43m.\u001b[39;49m\u001b[43mextend\u001b[49m\u001b[43m(\u001b[49m\u001b[38;5;241;43m4\u001b[39;49m\u001b[43m)\u001b[49m\n",
            "\u001b[0;31mTypeError\u001b[0m: 'int' object is not iterable"
          ]
        }
      ],
      "source": [
        "l.extend(4)"
      ]
    },
    {
      "cell_type": "code",
      "execution_count": null,
      "id": "cbf52c2a-fb93-4549-bd69-829fc468a2bf",
      "metadata": {
        "id": "cbf52c2a-fb93-4549-bd69-829fc468a2bf"
      },
      "outputs": [],
      "source": [
        "l.extend(\"sudh\")"
      ]
    },
    {
      "cell_type": "code",
      "execution_count": null,
      "id": "a8d5eb56-3f0b-49de-b77b-056f447db959",
      "metadata": {
        "id": "a8d5eb56-3f0b-49de-b77b-056f447db959",
        "outputId": "61eb7b1a-6e7d-4f5f-ba11-12d814cdea60"
      },
      "outputs": [
        {
          "data": {
            "text/plain": [
              "[1,\n",
              " 345,\n",
              " 45,\n",
              " 'sudh',\n",
              " True,\n",
              " (5+7j),\n",
              " 345.456,\n",
              " 5,\n",
              " 'pwskills',\n",
              " [3, 4, 5],\n",
              " 's',\n",
              " 'u',\n",
              " 'd',\n",
              " 'h']"
            ]
          },
          "execution_count": 48,
          "metadata": {},
          "output_type": "execute_result"
        }
      ],
      "source": [
        "l"
      ]
    },
    {
      "cell_type": "code",
      "execution_count": null,
      "id": "685e63e3-e53d-4442-8007-1cafcc0dd02c",
      "metadata": {
        "id": "685e63e3-e53d-4442-8007-1cafcc0dd02c"
      },
      "outputs": [],
      "source": [
        "l.extend([3,4,5])"
      ]
    },
    {
      "cell_type": "code",
      "execution_count": null,
      "id": "67f9263b-beae-4ad5-a24c-d9d31003668a",
      "metadata": {
        "id": "67f9263b-beae-4ad5-a24c-d9d31003668a",
        "outputId": "d974db1c-be9e-4de7-8ee7-b07f928ae021"
      },
      "outputs": [
        {
          "data": {
            "text/plain": [
              "[1,\n",
              " 345,\n",
              " 45,\n",
              " 'sudh',\n",
              " True,\n",
              " (5+7j),\n",
              " 345.456,\n",
              " 5,\n",
              " 'pwskills',\n",
              " [3, 4, 5],\n",
              " 's',\n",
              " 'u',\n",
              " 'd',\n",
              " 'h',\n",
              " 3,\n",
              " 4,\n",
              " 5]"
            ]
          },
          "execution_count": 51,
          "metadata": {},
          "output_type": "execute_result"
        }
      ],
      "source": [
        "l"
      ]
    },
    {
      "cell_type": "code",
      "execution_count": null,
      "id": "e0066d6a-0ff2-483b-8d77-24e46afeb8b4",
      "metadata": {
        "id": "e0066d6a-0ff2-483b-8d77-24e46afeb8b4",
        "outputId": "b4eb1b99-9cac-40eb-ee72-d8522b69f128"
      },
      "outputs": [
        {
          "data": {
            "text/plain": [
              "[3, 4, 5]"
            ]
          },
          "execution_count": 52,
          "metadata": {},
          "output_type": "execute_result"
        }
      ],
      "source": [
        "l1"
      ]
    },
    {
      "cell_type": "code",
      "execution_count": null,
      "id": "be4fd23d-6dcf-4a1f-a73a-c63545666b7e",
      "metadata": {
        "id": "be4fd23d-6dcf-4a1f-a73a-c63545666b7e"
      },
      "outputs": [],
      "source": [
        "l1.insert(1,\"sudh\")"
      ]
    },
    {
      "cell_type": "code",
      "execution_count": null,
      "id": "46410796-825a-4d1b-b02e-bf200b8b0646",
      "metadata": {
        "id": "46410796-825a-4d1b-b02e-bf200b8b0646",
        "outputId": "3165dad6-c18f-48fe-c6c2-f4c610ea5afc"
      },
      "outputs": [
        {
          "data": {
            "text/plain": [
              "[3, 'sudh', 4, 5]"
            ]
          },
          "execution_count": 54,
          "metadata": {},
          "output_type": "execute_result"
        }
      ],
      "source": [
        "l1"
      ]
    },
    {
      "cell_type": "code",
      "execution_count": null,
      "id": "a2e39ece-451a-4332-9100-b71b3a440edc",
      "metadata": {
        "id": "a2e39ece-451a-4332-9100-b71b3a440edc"
      },
      "outputs": [],
      "source": [
        "l1.insert(2 , [2,3,4])"
      ]
    },
    {
      "cell_type": "code",
      "execution_count": null,
      "id": "b9fd73f8-cf3b-46f6-a7c0-6d1bb9f75b9e",
      "metadata": {
        "id": "b9fd73f8-cf3b-46f6-a7c0-6d1bb9f75b9e",
        "outputId": "a93e25ad-335f-4e7d-da91-9466e2944bf3"
      },
      "outputs": [
        {
          "data": {
            "text/plain": [
              "[3, 'sudh', [2, 3, 4], [2, 3, 4], 4, 5]"
            ]
          },
          "execution_count": 58,
          "metadata": {},
          "output_type": "execute_result"
        }
      ],
      "source": [
        "l1"
      ]
    },
    {
      "cell_type": "code",
      "execution_count": null,
      "id": "a0c9258b-5a67-471f-ba9e-cd972130f316",
      "metadata": {
        "id": "a0c9258b-5a67-471f-ba9e-cd972130f316"
      },
      "outputs": [],
      "source": [
        "l1.insert(-1 , 45)"
      ]
    },
    {
      "cell_type": "code",
      "execution_count": null,
      "id": "533eb7da-7815-4383-a627-86b789db9017",
      "metadata": {
        "id": "533eb7da-7815-4383-a627-86b789db9017",
        "outputId": "26e36692-3fc0-484c-f7db-aa2395d1d946"
      },
      "outputs": [
        {
          "data": {
            "text/plain": [
              "[3, 'sudh', [2, 3, 4], [2, 3, 4], 4, 45, 5]"
            ]
          },
          "execution_count": 60,
          "metadata": {},
          "output_type": "execute_result"
        }
      ],
      "source": [
        "l1"
      ]
    },
    {
      "cell_type": "code",
      "execution_count": null,
      "id": "dfe603b5-8a3c-46e7-98ff-0c76f77ecc96",
      "metadata": {
        "id": "dfe603b5-8a3c-46e7-98ff-0c76f77ecc96"
      },
      "outputs": [],
      "source": [
        "l1.insert(0 , 45)"
      ]
    },
    {
      "cell_type": "code",
      "execution_count": null,
      "id": "4c52a091-4116-410b-aed9-7675f7f9b6ea",
      "metadata": {
        "id": "4c52a091-4116-410b-aed9-7675f7f9b6ea",
        "outputId": "17358655-f3c4-4376-83a7-bf1bf55f8057"
      },
      "outputs": [
        {
          "data": {
            "text/plain": [
              "[45, 3, 'sudh', [2, 3, 4], [2, 3, 4], 4, 45, 5]"
            ]
          },
          "execution_count": 62,
          "metadata": {},
          "output_type": "execute_result"
        }
      ],
      "source": [
        "l1"
      ]
    },
    {
      "cell_type": "code",
      "execution_count": null,
      "id": "c8fa3187-fbac-4a18-9a8c-d57087041b64",
      "metadata": {
        "id": "c8fa3187-fbac-4a18-9a8c-d57087041b64",
        "outputId": "ed16ec80-4c84-440e-87e4-7da4a0926684"
      },
      "outputs": [
        {
          "data": {
            "text/plain": [
              "5"
            ]
          },
          "execution_count": 63,
          "metadata": {},
          "output_type": "execute_result"
        }
      ],
      "source": [
        "l1.pop()"
      ]
    },
    {
      "cell_type": "code",
      "execution_count": null,
      "id": "55b75e2e-1e00-44c7-b96b-13a318722e22",
      "metadata": {
        "id": "55b75e2e-1e00-44c7-b96b-13a318722e22",
        "outputId": "3c694427-0a26-4cc9-8ff2-7dc4e97de58e"
      },
      "outputs": [
        {
          "data": {
            "text/plain": [
              "[45, 3, 'sudh', [2, 3, 4], [2, 3, 4], 4, 45]"
            ]
          },
          "execution_count": 64,
          "metadata": {},
          "output_type": "execute_result"
        }
      ],
      "source": [
        "l1"
      ]
    },
    {
      "cell_type": "code",
      "execution_count": null,
      "id": "db9dca71-23e9-45b9-a76b-e05435185c00",
      "metadata": {
        "id": "db9dca71-23e9-45b9-a76b-e05435185c00",
        "outputId": "2a632510-7139-49be-99e4-09f251a74bd9"
      },
      "outputs": [
        {
          "data": {
            "text/plain": [
              "45"
            ]
          },
          "execution_count": 65,
          "metadata": {},
          "output_type": "execute_result"
        }
      ],
      "source": [
        "l1.pop()"
      ]
    },
    {
      "cell_type": "code",
      "execution_count": null,
      "id": "9c745036-9be6-470a-8262-bc0e49e6451d",
      "metadata": {
        "id": "9c745036-9be6-470a-8262-bc0e49e6451d",
        "outputId": "483fa9f3-01fe-4022-c3c3-b8d9e1da99e6"
      },
      "outputs": [
        {
          "data": {
            "text/plain": [
              "[45, 3, 'sudh', [2, 3, 4], [2, 3, 4], 4]"
            ]
          },
          "execution_count": 66,
          "metadata": {},
          "output_type": "execute_result"
        }
      ],
      "source": [
        "l1"
      ]
    },
    {
      "cell_type": "code",
      "execution_count": null,
      "id": "388b4f04-74b5-4d9a-97b2-e1402c41cc78",
      "metadata": {
        "id": "388b4f04-74b5-4d9a-97b2-e1402c41cc78",
        "outputId": "24f3419c-2b77-420a-82d2-f41ea9058113"
      },
      "outputs": [
        {
          "data": {
            "text/plain": [
              "[2, 3, 4]"
            ]
          },
          "execution_count": 67,
          "metadata": {},
          "output_type": "execute_result"
        }
      ],
      "source": [
        "l1.pop(3)"
      ]
    },
    {
      "cell_type": "code",
      "execution_count": null,
      "id": "c4c43495-007d-4650-a6fe-b0a703c25b84",
      "metadata": {
        "id": "c4c43495-007d-4650-a6fe-b0a703c25b84",
        "outputId": "07dc9210-2b34-430a-8678-06bf8eab802b"
      },
      "outputs": [
        {
          "data": {
            "text/plain": [
              "[45, 3, 'sudh', [2, 3, 4], 4]"
            ]
          },
          "execution_count": 68,
          "metadata": {},
          "output_type": "execute_result"
        }
      ],
      "source": [
        "l1"
      ]
    },
    {
      "cell_type": "code",
      "execution_count": null,
      "id": "419a91c8-0a4b-4bf6-8239-9b7ec8dbe8fc",
      "metadata": {
        "id": "419a91c8-0a4b-4bf6-8239-9b7ec8dbe8fc",
        "outputId": "8233b03c-6846-4993-b9a4-8b14f5c13b55"
      },
      "outputs": [
        {
          "data": {
            "text/plain": [
              "[45, 3, 'sudh', [2, 3, 4], 4]"
            ]
          },
          "execution_count": 69,
          "metadata": {},
          "output_type": "execute_result"
        }
      ],
      "source": [
        "l1"
      ]
    },
    {
      "cell_type": "code",
      "execution_count": null,
      "id": "de69f839-c7da-45b8-9b6b-95779d2db18f",
      "metadata": {
        "id": "de69f839-c7da-45b8-9b6b-95779d2db18f"
      },
      "outputs": [],
      "source": [
        "l1.remove(3)"
      ]
    },
    {
      "cell_type": "code",
      "execution_count": null,
      "id": "2749c86f-00fa-4f2f-a2a1-5f95b651824f",
      "metadata": {
        "id": "2749c86f-00fa-4f2f-a2a1-5f95b651824f",
        "outputId": "0b8fb47e-48e1-4d8f-ed41-b01b0d9af4ae"
      },
      "outputs": [
        {
          "data": {
            "text/plain": [
              "[45, 'sudh', [2, 3, 4], 4]"
            ]
          },
          "execution_count": 71,
          "metadata": {},
          "output_type": "execute_result"
        }
      ],
      "source": [
        "l1"
      ]
    },
    {
      "cell_type": "code",
      "execution_count": null,
      "id": "fc3a48a0-26c6-485a-80c6-e151c3bc2066",
      "metadata": {
        "id": "fc3a48a0-26c6-485a-80c6-e151c3bc2066",
        "outputId": "8d79e99d-1600-4989-ceb7-0f1faec0218b"
      },
      "outputs": [
        {
          "ename": "ValueError",
          "evalue": "list.remove(x): x not in list",
          "output_type": "error",
          "traceback": [
            "\u001b[0;31m---------------------------------------------------------------------------\u001b[0m",
            "\u001b[0;31mValueError\u001b[0m                                Traceback (most recent call last)",
            "Cell \u001b[0;32mIn[72], line 1\u001b[0m\n\u001b[0;32m----> 1\u001b[0m \u001b[43ml1\u001b[49m\u001b[38;5;241;43m.\u001b[39;49m\u001b[43mremove\u001b[49m\u001b[43m(\u001b[49m\u001b[38;5;241;43m234\u001b[39;49m\u001b[43m)\u001b[49m\n",
            "\u001b[0;31mValueError\u001b[0m: list.remove(x): x not in list"
          ]
        }
      ],
      "source": [
        "l1.remove(234)"
      ]
    },
    {
      "cell_type": "code",
      "execution_count": null,
      "id": "8ae8d2ff-57cd-49ac-b822-4ddf8f6f41b6",
      "metadata": {
        "id": "8ae8d2ff-57cd-49ac-b822-4ddf8f6f41b6"
      },
      "outputs": [],
      "source": [
        "l1[2].remove(3)"
      ]
    },
    {
      "cell_type": "code",
      "execution_count": null,
      "id": "8df9a004-0aa6-4ddb-8849-70dad15ea4a2",
      "metadata": {
        "id": "8df9a004-0aa6-4ddb-8849-70dad15ea4a2",
        "outputId": "a80669a4-30f9-4d81-850b-2606109b4fd7"
      },
      "outputs": [
        {
          "data": {
            "text/plain": [
              "[45, 'sudh', [2, 4], 4]"
            ]
          },
          "execution_count": 75,
          "metadata": {},
          "output_type": "execute_result"
        }
      ],
      "source": [
        "l1"
      ]
    },
    {
      "cell_type": "code",
      "execution_count": null,
      "id": "6b4455d9-6b21-4d1d-bedd-3ea0e4599aab",
      "metadata": {
        "id": "6b4455d9-6b21-4d1d-bedd-3ea0e4599aab"
      },
      "outputs": [],
      "source": [
        "l1.append(4)"
      ]
    },
    {
      "cell_type": "code",
      "execution_count": null,
      "id": "72505858-f041-45d8-83ee-243c5c11ecb8",
      "metadata": {
        "id": "72505858-f041-45d8-83ee-243c5c11ecb8",
        "outputId": "1b189326-41cf-4857-d4f4-ca48a8e8da78"
      },
      "outputs": [
        {
          "data": {
            "text/plain": [
              "[45, 'sudh', [2, 4], 4, 4]"
            ]
          },
          "execution_count": 77,
          "metadata": {},
          "output_type": "execute_result"
        }
      ],
      "source": [
        "l1"
      ]
    },
    {
      "cell_type": "code",
      "execution_count": null,
      "id": "2fcf7bee-1323-4f50-9661-99891228793d",
      "metadata": {
        "id": "2fcf7bee-1323-4f50-9661-99891228793d"
      },
      "outputs": [],
      "source": [
        "l1.remove(4)"
      ]
    },
    {
      "cell_type": "code",
      "execution_count": null,
      "id": "31f4453f-5c9a-42ae-a40b-5c9c49e43a66",
      "metadata": {
        "id": "31f4453f-5c9a-42ae-a40b-5c9c49e43a66",
        "outputId": "d9188a1b-7bcb-440f-902f-a030eb03c357"
      },
      "outputs": [
        {
          "data": {
            "text/plain": [
              "[45, 'sudh', [2, 4], 4]"
            ]
          },
          "execution_count": 79,
          "metadata": {},
          "output_type": "execute_result"
        }
      ],
      "source": [
        "l1"
      ]
    },
    {
      "cell_type": "code",
      "execution_count": null,
      "id": "73e799bb-6755-4d62-933b-ee451686381c",
      "metadata": {
        "id": "73e799bb-6755-4d62-933b-ee451686381c",
        "outputId": "d8c3fefe-40b7-4c3d-c01e-a18a615432af"
      },
      "outputs": [
        {
          "data": {
            "text/plain": [
              "[45, 'sudh', [2, 4], 4]"
            ]
          },
          "execution_count": 80,
          "metadata": {},
          "output_type": "execute_result"
        }
      ],
      "source": [
        "l1"
      ]
    },
    {
      "cell_type": "code",
      "execution_count": null,
      "id": "801a68da-97f2-43e6-9591-4d5038007f34",
      "metadata": {
        "id": "801a68da-97f2-43e6-9591-4d5038007f34",
        "outputId": "d532d157-8713-461b-b84d-d004210c2cdd"
      },
      "outputs": [
        {
          "data": {
            "text/plain": [
              "[4, [2, 4], 'sudh', 45]"
            ]
          },
          "execution_count": 81,
          "metadata": {},
          "output_type": "execute_result"
        }
      ],
      "source": [
        "l1 = l1[::-1]"
      ]
    },
    {
      "cell_type": "code",
      "execution_count": null,
      "id": "b8018775-9792-45a2-a989-56a0ae16c2de",
      "metadata": {
        "id": "b8018775-9792-45a2-a989-56a0ae16c2de"
      },
      "outputs": [],
      "source": [
        "l1.reverse()"
      ]
    },
    {
      "cell_type": "code",
      "execution_count": null,
      "id": "52c3b26c-f113-401e-a5b4-144942a9acc4",
      "metadata": {
        "id": "52c3b26c-f113-401e-a5b4-144942a9acc4",
        "outputId": "155cec19-a4b5-4560-80ee-8ce867b008aa"
      },
      "outputs": [
        {
          "data": {
            "text/plain": [
              "[4, [2, 4], 'sudh', 45]"
            ]
          },
          "execution_count": 83,
          "metadata": {},
          "output_type": "execute_result"
        }
      ],
      "source": [
        "l1"
      ]
    },
    {
      "cell_type": "code",
      "execution_count": null,
      "id": "bb0803e0-5406-4cfa-a084-12f711e1d075",
      "metadata": {
        "id": "bb0803e0-5406-4cfa-a084-12f711e1d075",
        "outputId": "badc3c25-b7be-43ea-9d80-b072cce6c9d4"
      },
      "outputs": [
        {
          "data": {
            "text/plain": [
              "[4, [2, 4], 'sudh', 45]"
            ]
          },
          "execution_count": 84,
          "metadata": {},
          "output_type": "execute_result"
        }
      ],
      "source": [
        "l1"
      ]
    },
    {
      "cell_type": "code",
      "execution_count": null,
      "id": "9308f0ba-5e02-4b27-9fdf-98fddb1800a8",
      "metadata": {
        "id": "9308f0ba-5e02-4b27-9fdf-98fddb1800a8",
        "outputId": "cd3294a8-ffbe-40ee-c7fb-aa32598af3e3"
      },
      "outputs": [
        {
          "ename": "TypeError",
          "evalue": "'<' not supported between instances of 'list' and 'int'",
          "output_type": "error",
          "traceback": [
            "\u001b[0;31m---------------------------------------------------------------------------\u001b[0m",
            "\u001b[0;31mTypeError\u001b[0m                                 Traceback (most recent call last)",
            "Cell \u001b[0;32mIn[85], line 1\u001b[0m\n\u001b[0;32m----> 1\u001b[0m \u001b[43ml1\u001b[49m\u001b[38;5;241;43m.\u001b[39;49m\u001b[43msort\u001b[49m\u001b[43m(\u001b[49m\u001b[43m)\u001b[49m\n",
            "\u001b[0;31mTypeError\u001b[0m: '<' not supported between instances of 'list' and 'int'"
          ]
        }
      ],
      "source": [
        "l1.sort()"
      ]
    },
    {
      "cell_type": "code",
      "execution_count": null,
      "id": "e12d1522-3e34-4d2b-b939-7520513693ad",
      "metadata": {
        "id": "e12d1522-3e34-4d2b-b939-7520513693ad"
      },
      "outputs": [],
      "source": [
        "l2 = [45,23,90,0,3,4,5,6,7,8,9]"
      ]
    },
    {
      "cell_type": "code",
      "execution_count": null,
      "id": "b24295db-d862-4484-8fe4-2b447f89d27d",
      "metadata": {
        "id": "b24295db-d862-4484-8fe4-2b447f89d27d"
      },
      "outputs": [],
      "source": [
        "l2.sort()"
      ]
    },
    {
      "cell_type": "code",
      "execution_count": null,
      "id": "64effa6b-88e6-4c13-a451-186e427a7e40",
      "metadata": {
        "id": "64effa6b-88e6-4c13-a451-186e427a7e40",
        "outputId": "51b7f798-5ce5-490a-e20f-a608545c6f49"
      },
      "outputs": [
        {
          "data": {
            "text/plain": [
              "[0, 3, 4, 5, 6, 7, 8, 9, 23, 45, 90]"
            ]
          },
          "execution_count": 91,
          "metadata": {},
          "output_type": "execute_result"
        }
      ],
      "source": [
        "l2"
      ]
    },
    {
      "cell_type": "code",
      "execution_count": null,
      "id": "dd8cd691-d671-472d-ba5b-96f0a54b13bb",
      "metadata": {
        "id": "dd8cd691-d671-472d-ba5b-96f0a54b13bb",
        "outputId": "d1239bd2-66ec-4f30-beb1-970098b8d957"
      },
      "outputs": [
        {
          "data": {
            "text/plain": [
              "[0, 3, 4, 5, 6, 7, 8, 9, 23, 45, 90]"
            ]
          },
          "execution_count": 92,
          "metadata": {},
          "output_type": "execute_result"
        }
      ],
      "source": [
        "l2"
      ]
    },
    {
      "cell_type": "code",
      "execution_count": null,
      "id": "eaee0d57-f30e-4f25-b194-bd5481df660c",
      "metadata": {
        "id": "eaee0d57-f30e-4f25-b194-bd5481df660c"
      },
      "outputs": [],
      "source": [
        "l3 = [34,\"sudh\",45,12,\"kumar\"]"
      ]
    },
    {
      "cell_type": "code",
      "execution_count": null,
      "id": "4e76f1a2-3492-4739-b191-3f7472e059d1",
      "metadata": {
        "id": "4e76f1a2-3492-4739-b191-3f7472e059d1",
        "outputId": "8647702d-8f65-48c7-df56-59f6932c0a4f"
      },
      "outputs": [
        {
          "ename": "TypeError",
          "evalue": "'<' not supported between instances of 'str' and 'int'",
          "output_type": "error",
          "traceback": [
            "\u001b[0;31m---------------------------------------------------------------------------\u001b[0m",
            "\u001b[0;31mTypeError\u001b[0m                                 Traceback (most recent call last)",
            "Cell \u001b[0;32mIn[94], line 1\u001b[0m\n\u001b[0;32m----> 1\u001b[0m \u001b[43ml3\u001b[49m\u001b[38;5;241;43m.\u001b[39;49m\u001b[43msort\u001b[49m\u001b[43m(\u001b[49m\u001b[43m)\u001b[49m\n",
            "\u001b[0;31mTypeError\u001b[0m: '<' not supported between instances of 'str' and 'int'"
          ]
        }
      ],
      "source": [
        "l3.sort()"
      ]
    },
    {
      "cell_type": "code",
      "execution_count": null,
      "id": "163782b7-f9be-4c6e-b134-9527ce66fe1f",
      "metadata": {
        "id": "163782b7-f9be-4c6e-b134-9527ce66fe1f"
      },
      "outputs": [],
      "source": [
        "l4 = [\"sudh\" , \"kumar\" , \"pwskills\" , \"data science\"]"
      ]
    },
    {
      "cell_type": "code",
      "execution_count": null,
      "id": "b4dbcc39-ed42-4321-bc99-bd56662176d1",
      "metadata": {
        "id": "b4dbcc39-ed42-4321-bc99-bd56662176d1"
      },
      "outputs": [],
      "source": [
        "l4.sort(reverse=True)"
      ]
    },
    {
      "cell_type": "code",
      "execution_count": null,
      "id": "985c7546-46d4-4340-ad2b-5d470e8230bf",
      "metadata": {
        "id": "985c7546-46d4-4340-ad2b-5d470e8230bf",
        "outputId": "c40cef96-20c2-4b8d-de6a-a81c75132ebe"
      },
      "outputs": [
        {
          "data": {
            "text/plain": [
              "['sudh', 'pwskills', 'kumar', 'data science']"
            ]
          },
          "execution_count": 99,
          "metadata": {},
          "output_type": "execute_result"
        }
      ],
      "source": [
        "l4"
      ]
    },
    {
      "cell_type": "code",
      "execution_count": null,
      "id": "058c1bc8-6942-4b27-bce2-0173ed4048a9",
      "metadata": {
        "id": "058c1bc8-6942-4b27-bce2-0173ed4048a9",
        "outputId": "271d5405-6b27-4edb-e629-f9c5f936520c"
      },
      "outputs": [
        {
          "data": {
            "text/plain": [
              "['sudh', 'pwskills', 'kumar', 'data science']"
            ]
          },
          "execution_count": 100,
          "metadata": {},
          "output_type": "execute_result"
        }
      ],
      "source": [
        "l4"
      ]
    },
    {
      "cell_type": "code",
      "execution_count": null,
      "id": "41df8f5a-9f3d-4cab-80b4-2542071a46ba",
      "metadata": {
        "id": "41df8f5a-9f3d-4cab-80b4-2542071a46ba",
        "outputId": "8d5f9aef-efac-495f-e405-cde53c34d7b1"
      },
      "outputs": [
        {
          "data": {
            "text/plain": [
              "0"
            ]
          },
          "execution_count": 101,
          "metadata": {},
          "output_type": "execute_result"
        }
      ],
      "source": [
        "l4.index(\"sudh\")"
      ]
    },
    {
      "cell_type": "code",
      "execution_count": null,
      "id": "71e16c1b-9c46-42e4-a355-564d5dc2d933",
      "metadata": {
        "id": "71e16c1b-9c46-42e4-a355-564d5dc2d933",
        "outputId": "f51a1459-1ad8-4ed0-ec43-c97a5d8ce4a1"
      },
      "outputs": [
        {
          "data": {
            "text/plain": [
              "1"
            ]
          },
          "execution_count": 102,
          "metadata": {},
          "output_type": "execute_result"
        }
      ],
      "source": [
        "l4.count(\"sudh\")"
      ]
    },
    {
      "cell_type": "code",
      "execution_count": null,
      "id": "68e76fa3-301c-4e6b-84de-f9987fe31171",
      "metadata": {
        "id": "68e76fa3-301c-4e6b-84de-f9987fe31171"
      },
      "outputs": [],
      "source": [
        "s= \"sudh\""
      ]
    },
    {
      "cell_type": "code",
      "execution_count": null,
      "id": "4b753c86-5523-4efe-8170-10ea64777143",
      "metadata": {
        "id": "4b753c86-5523-4efe-8170-10ea64777143"
      },
      "outputs": [],
      "source": [
        "l5 = [3,4,5,6]"
      ]
    },
    {
      "cell_type": "code",
      "execution_count": null,
      "id": "080b6e8b-cf59-4fee-8739-116ed475f9df",
      "metadata": {
        "id": "080b6e8b-cf59-4fee-8739-116ed475f9df",
        "outputId": "9cd93742-c28a-4d31-ab34-ccff24d0c24d"
      },
      "outputs": [
        {
          "ename": "TypeError",
          "evalue": "'str' object does not support item assignment",
          "output_type": "error",
          "traceback": [
            "\u001b[0;31m---------------------------------------------------------------------------\u001b[0m",
            "\u001b[0;31mTypeError\u001b[0m                                 Traceback (most recent call last)",
            "Cell \u001b[0;32mIn[106], line 1\u001b[0m\n\u001b[0;32m----> 1\u001b[0m \u001b[43ms\u001b[49m\u001b[43m[\u001b[49m\u001b[38;5;241;43m0\u001b[39;49m\u001b[43m]\u001b[49m \u001b[38;5;241m=\u001b[39m \u001b[38;5;124m'\u001b[39m\u001b[38;5;124ma\u001b[39m\u001b[38;5;124m'\u001b[39m\n",
            "\u001b[0;31mTypeError\u001b[0m: 'str' object does not support item assignment"
          ]
        }
      ],
      "source": [
        "s[0] = 'a'"
      ]
    },
    {
      "cell_type": "code",
      "execution_count": null,
      "id": "89a4fa3f-ee7c-4814-a855-0869c82608cf",
      "metadata": {
        "id": "89a4fa3f-ee7c-4814-a855-0869c82608cf"
      },
      "outputs": [],
      "source": [
        "l5[0] = 30"
      ]
    },
    {
      "cell_type": "code",
      "execution_count": null,
      "id": "0edd5445-514f-4a42-b2dc-243aa957086e",
      "metadata": {
        "id": "0edd5445-514f-4a42-b2dc-243aa957086e",
        "outputId": "4a935a05-b3f5-4ad5-e6a0-5f00dff2c412"
      },
      "outputs": [
        {
          "data": {
            "text/plain": [
              "[30, 4, 5, 6]"
            ]
          },
          "execution_count": 109,
          "metadata": {},
          "output_type": "execute_result"
        }
      ],
      "source": [
        "l5"
      ]
    },
    {
      "cell_type": "code",
      "execution_count": null,
      "id": "fb0c020d-643a-4fce-8d14-c456a16cd811",
      "metadata": {
        "id": "fb0c020d-643a-4fce-8d14-c456a16cd811",
        "outputId": "4abccf50-d760-4004-ece4-3547d4888364"
      },
      "outputs": [
        {
          "data": {
            "text/plain": [
              "'sudh'"
            ]
          },
          "execution_count": 110,
          "metadata": {},
          "output_type": "execute_result"
        }
      ],
      "source": [
        "s"
      ]
    },
    {
      "cell_type": "code",
      "execution_count": null,
      "id": "425d956f-bb07-4b6c-91ef-e25c9affe145",
      "metadata": {
        "id": "425d956f-bb07-4b6c-91ef-e25c9affe145",
        "outputId": "af90bf36-839e-4bef-b193-d5668ad41b44"
      },
      "outputs": [
        {
          "data": {
            "text/plain": [
              "'audh'"
            ]
          },
          "execution_count": 113,
          "metadata": {},
          "output_type": "execute_result"
        }
      ],
      "source": [
        "s.replace('s' , 'a')"
      ]
    },
    {
      "cell_type": "code",
      "execution_count": null,
      "id": "c0a39d1a-e78c-4d05-932b-df26f72c733c",
      "metadata": {
        "id": "c0a39d1a-e78c-4d05-932b-df26f72c733c",
        "outputId": "e5b42bfd-0eac-4dfb-f13e-88fe6cf5e4ab"
      },
      "outputs": [
        {
          "data": {
            "text/plain": [
              "'sudh'"
            ]
          },
          "execution_count": 112,
          "metadata": {},
          "output_type": "execute_result"
        }
      ],
      "source": [
        "s"
      ]
    },
    {
      "cell_type": "code",
      "execution_count": null,
      "id": "af37d671-c116-4d64-b579-24d41783acb7",
      "metadata": {
        "id": "af37d671-c116-4d64-b579-24d41783acb7"
      },
      "outputs": [],
      "source": [
        "t = (2,3,4,5,\"sudh\" , 45.56, False , 45+457j , [3,4,5] )"
      ]
    },
    {
      "cell_type": "code",
      "execution_count": null,
      "id": "99555c69-e606-435e-920b-5b1f85f62bd2",
      "metadata": {
        "id": "99555c69-e606-435e-920b-5b1f85f62bd2",
        "outputId": "511f7cf5-c809-4599-d3b5-73bf9cdf5a36"
      },
      "outputs": [
        {
          "data": {
            "text/plain": [
              "(2, 3, 4, 5, 'sudh', 45.56, False, (45+457j), [3, 4, 5])"
            ]
          },
          "execution_count": 116,
          "metadata": {},
          "output_type": "execute_result"
        }
      ],
      "source": [
        "t"
      ]
    },
    {
      "cell_type": "code",
      "execution_count": null,
      "id": "01d3cb40-274a-48a1-9b14-5b6211983d90",
      "metadata": {
        "id": "01d3cb40-274a-48a1-9b14-5b6211983d90",
        "outputId": "584c4c03-d805-4c3c-f112-09ee0750fe9c"
      },
      "outputs": [
        {
          "data": {
            "text/plain": [
              "tuple"
            ]
          },
          "execution_count": 117,
          "metadata": {},
          "output_type": "execute_result"
        }
      ],
      "source": [
        "type(t)"
      ]
    },
    {
      "cell_type": "code",
      "execution_count": null,
      "id": "6471ef16-bd20-473f-84aa-05385d86b736",
      "metadata": {
        "id": "6471ef16-bd20-473f-84aa-05385d86b736",
        "outputId": "4e2952a0-f3ae-47bd-e842-c8a6eb31f9ab"
      },
      "outputs": [
        {
          "data": {
            "text/plain": [
              "9"
            ]
          },
          "execution_count": 118,
          "metadata": {},
          "output_type": "execute_result"
        }
      ],
      "source": [
        "len(t)"
      ]
    },
    {
      "cell_type": "code",
      "execution_count": null,
      "id": "d3783fb9-5ce1-445e-905f-920438806835",
      "metadata": {
        "id": "d3783fb9-5ce1-445e-905f-920438806835",
        "outputId": "fb219096-a373-4181-c15c-02d3071afc6f"
      },
      "outputs": [
        {
          "data": {
            "text/plain": [
              "2"
            ]
          },
          "execution_count": 119,
          "metadata": {},
          "output_type": "execute_result"
        }
      ],
      "source": [
        "t[0]"
      ]
    },
    {
      "cell_type": "code",
      "execution_count": null,
      "id": "1ad98040-c3fc-4bbc-b039-856c3b9d900b",
      "metadata": {
        "id": "1ad98040-c3fc-4bbc-b039-856c3b9d900b",
        "outputId": "2c40a39a-5995-4efe-91a1-ffa362a6c086"
      },
      "outputs": [
        {
          "data": {
            "text/plain": [
              "[3, 4, 5]"
            ]
          },
          "execution_count": 120,
          "metadata": {},
          "output_type": "execute_result"
        }
      ],
      "source": [
        "t[-1]"
      ]
    },
    {
      "cell_type": "code",
      "execution_count": null,
      "id": "8561e7c9-b7f2-4189-a65c-6bcb66fc505c",
      "metadata": {
        "id": "8561e7c9-b7f2-4189-a65c-6bcb66fc505c",
        "outputId": "e7ba3b21-006c-409d-b25e-2bd5c9ce8f11"
      },
      "outputs": [
        {
          "data": {
            "text/plain": [
              "([3, 4, 5], (45+457j), False, 45.56, 'sudh', 5, 4, 3, 2)"
            ]
          },
          "execution_count": 121,
          "metadata": {},
          "output_type": "execute_result"
        }
      ],
      "source": [
        "t[::-1]"
      ]
    },
    {
      "cell_type": "code",
      "execution_count": null,
      "id": "a8a5d2ea-0f3c-4c5e-b6a1-a4b4175af331",
      "metadata": {
        "id": "a8a5d2ea-0f3c-4c5e-b6a1-a4b4175af331",
        "outputId": "1374f734-df3f-4ae8-f619-a32c6c3a6c39"
      },
      "outputs": [
        {
          "data": {
            "text/plain": [
              "['sudh', 'pwskills', 'kumar', 'data science']"
            ]
          },
          "execution_count": 122,
          "metadata": {},
          "output_type": "execute_result"
        }
      ],
      "source": [
        "l4"
      ]
    },
    {
      "cell_type": "code",
      "execution_count": null,
      "id": "a2e42340-d052-418a-9c79-d7a9004d2f54",
      "metadata": {
        "id": "a2e42340-d052-418a-9c79-d7a9004d2f54"
      },
      "outputs": [],
      "source": [
        "l4[0] = 23424"
      ]
    },
    {
      "cell_type": "code",
      "execution_count": null,
      "id": "a52276fd-e96a-4d79-915d-64dde9962421",
      "metadata": {
        "id": "a52276fd-e96a-4d79-915d-64dde9962421",
        "outputId": "52b6d96b-50bf-4bd8-8bd2-8d4eb0c63128"
      },
      "outputs": [
        {
          "data": {
            "text/plain": [
              "[23424, 'pwskills', 'kumar', 'data science']"
            ]
          },
          "execution_count": 125,
          "metadata": {},
          "output_type": "execute_result"
        }
      ],
      "source": [
        "l4"
      ]
    },
    {
      "cell_type": "code",
      "execution_count": null,
      "id": "724c4992-26bf-4773-b94f-ae5cd7e9ab2f",
      "metadata": {
        "id": "724c4992-26bf-4773-b94f-ae5cd7e9ab2f",
        "outputId": "5328a209-ec26-4a6d-9cda-b310ea2d1af6"
      },
      "outputs": [
        {
          "data": {
            "text/plain": [
              "(2, 3, 4, 5, 'sudh', 45.56, False, (45+457j), [3, 4, 5])"
            ]
          },
          "execution_count": 126,
          "metadata": {},
          "output_type": "execute_result"
        }
      ],
      "source": [
        "t"
      ]
    },
    {
      "cell_type": "code",
      "execution_count": null,
      "id": "3a41e7a8-19d0-4d15-8016-6ff554af0d08",
      "metadata": {
        "id": "3a41e7a8-19d0-4d15-8016-6ff554af0d08",
        "outputId": "1c8ea00e-28e5-4714-d646-8aebd269fcc1"
      },
      "outputs": [
        {
          "ename": "TypeError",
          "evalue": "'tuple' object does not support item assignment",
          "output_type": "error",
          "traceback": [
            "\u001b[0;31m---------------------------------------------------------------------------\u001b[0m",
            "\u001b[0;31mTypeError\u001b[0m                                 Traceback (most recent call last)",
            "Cell \u001b[0;32mIn[128], line 1\u001b[0m\n\u001b[0;32m----> 1\u001b[0m \u001b[43mt\u001b[49m\u001b[43m[\u001b[49m\u001b[38;5;241;43m0\u001b[39;49m\u001b[43m]\u001b[49m \u001b[38;5;241m=\u001b[39m \u001b[38;5;124m\"\u001b[39m\u001b[38;5;124msudh\u001b[39m\u001b[38;5;124m\"\u001b[39m\n",
            "\u001b[0;31mTypeError\u001b[0m: 'tuple' object does not support item assignment"
          ]
        }
      ],
      "source": [
        "t[0] = \"sudh\""
      ]
    },
    {
      "cell_type": "code",
      "execution_count": null,
      "id": "9908d4ae-a9d2-441f-bc2e-60be67faba8d",
      "metadata": {
        "id": "9908d4ae-a9d2-441f-bc2e-60be67faba8d",
        "outputId": "157c146f-2e2f-43d8-8b65-bf362975a3ee"
      },
      "outputs": [
        {
          "data": {
            "text/plain": [
              "([3, 4, 5], (45+457j), False, 45.56, 'sudh', 5, 4, 3, 2)"
            ]
          },
          "execution_count": 130,
          "metadata": {},
          "output_type": "execute_result"
        }
      ],
      "source": [
        "t[::-1]"
      ]
    },
    {
      "cell_type": "code",
      "execution_count": null,
      "id": "7ea426ac-4b10-40ca-b748-bccc718e5fc3",
      "metadata": {
        "id": "7ea426ac-4b10-40ca-b748-bccc718e5fc3",
        "outputId": "7f3e5c0a-6428-4440-88e4-d8fb34d987f8"
      },
      "outputs": [
        {
          "data": {
            "text/plain": [
              "0"
            ]
          },
          "execution_count": 132,
          "metadata": {},
          "output_type": "execute_result"
        }
      ],
      "source": [
        "t.count(50)"
      ]
    },
    {
      "cell_type": "code",
      "execution_count": null,
      "id": "599a154c-0e32-46ea-95c2-0b1890b8befb",
      "metadata": {
        "id": "599a154c-0e32-46ea-95c2-0b1890b8befb",
        "outputId": "fba70f07-b081-4d9e-ec47-2766dd8658d9"
      },
      "outputs": [
        {
          "data": {
            "text/plain": [
              "6"
            ]
          },
          "execution_count": 133,
          "metadata": {},
          "output_type": "execute_result"
        }
      ],
      "source": [
        "t.index(False)"
      ]
    },
    {
      "cell_type": "code",
      "execution_count": null,
      "id": "647cab93-e9b2-437e-93c6-ba20e8bbea36",
      "metadata": {
        "id": "647cab93-e9b2-437e-93c6-ba20e8bbea36",
        "outputId": "4745249b-0978-4b7b-d740-578a58408c5a"
      },
      "outputs": [
        {
          "data": {
            "text/plain": [
              "(2, 3, 4, 5, 'sudh', 45.56, False, (45+457j), [3, 4, 5])"
            ]
          },
          "execution_count": 134,
          "metadata": {},
          "output_type": "execute_result"
        }
      ],
      "source": [
        "t"
      ]
    },
    {
      "cell_type": "code",
      "execution_count": null,
      "id": "06358c4b-54c1-4963-b252-234683c2ca0b",
      "metadata": {
        "id": "06358c4b-54c1-4963-b252-234683c2ca0b"
      },
      "outputs": [],
      "source": [
        "s1 = {}"
      ]
    },
    {
      "cell_type": "code",
      "execution_count": null,
      "id": "1721bc68-7695-4590-98a0-3d66e57e63e0",
      "metadata": {
        "id": "1721bc68-7695-4590-98a0-3d66e57e63e0",
        "outputId": "49e644d7-1fe3-46ff-b2e2-5f69be565f27"
      },
      "outputs": [
        {
          "data": {
            "text/plain": [
              "dict"
            ]
          },
          "execution_count": 136,
          "metadata": {},
          "output_type": "execute_result"
        }
      ],
      "source": [
        "type(s1)"
      ]
    },
    {
      "cell_type": "code",
      "execution_count": null,
      "id": "d3d5d7a9-7bd0-4832-8da3-b3e578c1af98",
      "metadata": {
        "id": "d3d5d7a9-7bd0-4832-8da3-b3e578c1af98"
      },
      "outputs": [],
      "source": [
        "s2 = {2,3,4,55,6}"
      ]
    },
    {
      "cell_type": "code",
      "execution_count": null,
      "id": "868e3ec0-73c4-4a9d-a1be-38b58e92079c",
      "metadata": {
        "id": "868e3ec0-73c4-4a9d-a1be-38b58e92079c",
        "outputId": "2a7088d2-109b-4b37-e88b-c81b5a68f075"
      },
      "outputs": [
        {
          "data": {
            "text/plain": [
              "set"
            ]
          },
          "execution_count": 140,
          "metadata": {},
          "output_type": "execute_result"
        }
      ],
      "source": [
        "type(s2)"
      ]
    },
    {
      "cell_type": "code",
      "execution_count": null,
      "id": "365e66ba-3e22-4060-b918-de1a0102b9ea",
      "metadata": {
        "id": "365e66ba-3e22-4060-b918-de1a0102b9ea"
      },
      "outputs": [],
      "source": [
        "s3 = {324,456,456, \"sudh\" , 45+45j ,34.465 , (3,4,5)}"
      ]
    },
    {
      "cell_type": "code",
      "execution_count": null,
      "id": "2b77074c-7de6-4bce-845e-49b068669f0d",
      "metadata": {
        "id": "2b77074c-7de6-4bce-845e-49b068669f0d",
        "outputId": "b0fa6cae-0914-4188-a790-b5c7d39893c8"
      },
      "outputs": [
        {
          "data": {
            "text/plain": [
              "{(3, 4, 5), (45+45j), 324, 34.465, 456, 'sudh'}"
            ]
          },
          "execution_count": 144,
          "metadata": {},
          "output_type": "execute_result"
        }
      ],
      "source": [
        "s3"
      ]
    },
    {
      "cell_type": "code",
      "execution_count": null,
      "id": "c94bd388-48e1-406c-851c-df16b5f300a6",
      "metadata": {
        "id": "c94bd388-48e1-406c-851c-df16b5f300a6"
      },
      "outputs": [],
      "source": [
        "s4 = {2,3,4,5,6,2,2,3,4,5,2,3,1,2,3,4,5,6,1,2,2,3, 'Sudh', 'sudh'}"
      ]
    },
    {
      "cell_type": "code",
      "execution_count": null,
      "id": "0cd42da9-c2e5-4a77-832b-3ca2a6b7580f",
      "metadata": {
        "id": "0cd42da9-c2e5-4a77-832b-3ca2a6b7580f",
        "outputId": "fdf8e31e-4669-43e6-c3fd-1b4c9e9f3128"
      },
      "outputs": [
        {
          "data": {
            "text/plain": [
              "{1, 2, 3, 4, 5, 6, 'Sudh', 'sudh'}"
            ]
          },
          "execution_count": 148,
          "metadata": {},
          "output_type": "execute_result"
        }
      ],
      "source": [
        "s4"
      ]
    },
    {
      "cell_type": "code",
      "execution_count": null,
      "id": "af5195d6-f983-498d-9ebc-a19f67381611",
      "metadata": {
        "id": "af5195d6-f983-498d-9ebc-a19f67381611"
      },
      "outputs": [],
      "source": [
        "l6 = [2,3,4,5,6,2,2,3,4,5,2,3,1,2,3,4,5,6,1,2,2,3, 'Sudh', 'sudh']"
      ]
    },
    {
      "cell_type": "code",
      "execution_count": null,
      "id": "f90ff400-dc96-4e0b-a714-756c38dabf43",
      "metadata": {
        "id": "f90ff400-dc96-4e0b-a714-756c38dabf43"
      },
      "outputs": [],
      "source": [
        "l6 = list(set(l6))"
      ]
    },
    {
      "cell_type": "code",
      "execution_count": null,
      "id": "78772c14-fc19-474a-a957-3f597276f0ca",
      "metadata": {
        "id": "78772c14-fc19-474a-a957-3f597276f0ca",
        "outputId": "97c22252-8c72-4f87-94ef-6fd7151e4b56"
      },
      "outputs": [
        {
          "data": {
            "text/plain": [
              "[1, 2, 3, 4, 5, 6, 'sudh', 'Sudh']"
            ]
          },
          "execution_count": 154,
          "metadata": {},
          "output_type": "execute_result"
        }
      ],
      "source": [
        "l6"
      ]
    },
    {
      "cell_type": "code",
      "execution_count": null,
      "id": "1048cb2f-a896-4e4a-9361-b433279749d5",
      "metadata": {
        "id": "1048cb2f-a896-4e4a-9361-b433279749d5"
      },
      "outputs": [],
      "source": [
        "s5 = {234,45,23,12,567,45,2,789,234,\"abc\", 456,342,23}"
      ]
    },
    {
      "cell_type": "code",
      "execution_count": null,
      "id": "3193c611-74ab-4ef8-b7a9-1f257c204587",
      "metadata": {
        "id": "3193c611-74ab-4ef8-b7a9-1f257c204587",
        "outputId": "5b0fcbae-6026-4ae8-d837-bff5af87ae4d"
      },
      "outputs": [
        {
          "data": {
            "text/plain": [
              "{12, 2, 23, 234, 342, 45, 456, 567, 789, 'abc'}"
            ]
          },
          "execution_count": 157,
          "metadata": {},
          "output_type": "execute_result"
        }
      ],
      "source": [
        "s5"
      ]
    },
    {
      "cell_type": "code",
      "execution_count": null,
      "id": "9655fd78-e4c2-43ed-bc3a-74a980b479f3",
      "metadata": {
        "id": "9655fd78-e4c2-43ed-bc3a-74a980b479f3",
        "outputId": "ffb14514-d7af-4b4c-e7b6-394be4c33ece"
      },
      "outputs": [
        {
          "data": {
            "text/plain": [
              "{12, 2, 23, 234, 342, 45, 456, 567, 789, 'abc'}"
            ]
          },
          "execution_count": 158,
          "metadata": {},
          "output_type": "execute_result"
        }
      ],
      "source": [
        "s5"
      ]
    },
    {
      "cell_type": "code",
      "execution_count": null,
      "id": "b89b57f5-b5a4-4bd1-9ac6-a4569a84f966",
      "metadata": {
        "id": "b89b57f5-b5a4-4bd1-9ac6-a4569a84f966",
        "outputId": "6571229b-6fb1-49d5-cb65-617a795b2a48"
      },
      "outputs": [
        {
          "ename": "TypeError",
          "evalue": "'set' object is not subscriptable",
          "output_type": "error",
          "traceback": [
            "\u001b[0;31m---------------------------------------------------------------------------\u001b[0m",
            "\u001b[0;31mTypeError\u001b[0m                                 Traceback (most recent call last)",
            "Cell \u001b[0;32mIn[159], line 1\u001b[0m\n\u001b[0;32m----> 1\u001b[0m \u001b[43ms5\u001b[49m\u001b[43m[\u001b[49m\u001b[38;5;241;43m0\u001b[39;49m\u001b[43m]\u001b[49m\n",
            "\u001b[0;31mTypeError\u001b[0m: 'set' object is not subscriptable"
          ]
        }
      ],
      "source": [
        "s5[0]"
      ]
    },
    {
      "cell_type": "code",
      "execution_count": null,
      "id": "59fa6206-1202-440b-938e-3cfd2c422838",
      "metadata": {
        "id": "59fa6206-1202-440b-938e-3cfd2c422838",
        "outputId": "1b9083bf-8c6e-4421-c0ac-b6c33b744545"
      },
      "outputs": [
        {
          "ename": "TypeError",
          "evalue": "'set' object is not subscriptable",
          "output_type": "error",
          "traceback": [
            "\u001b[0;31m---------------------------------------------------------------------------\u001b[0m",
            "\u001b[0;31mTypeError\u001b[0m                                 Traceback (most recent call last)",
            "Cell \u001b[0;32mIn[160], line 1\u001b[0m\n\u001b[0;32m----> 1\u001b[0m \u001b[43ms5\u001b[49m\u001b[43m[\u001b[49m\u001b[43m:\u001b[49m\u001b[43m:\u001b[49m\u001b[38;5;241;43m-\u001b[39;49m\u001b[38;5;241;43m1\u001b[39;49m\u001b[43m]\u001b[49m\n",
            "\u001b[0;31mTypeError\u001b[0m: 'set' object is not subscriptable"
          ]
        }
      ],
      "source": [
        "s5[::-1]"
      ]
    },
    {
      "cell_type": "code",
      "execution_count": null,
      "id": "59c80f9e-8ab2-4084-83b3-28865571356f",
      "metadata": {
        "id": "59c80f9e-8ab2-4084-83b3-28865571356f",
        "outputId": "f15244da-d701-494f-8512-0dfb3ee976e7"
      },
      "outputs": [
        {
          "data": {
            "text/plain": [
              "{12, 2, 23, 234, 342, 45, 456, 567, 789, 'abc'}"
            ]
          },
          "execution_count": 161,
          "metadata": {},
          "output_type": "execute_result"
        }
      ],
      "source": [
        "s5"
      ]
    },
    {
      "cell_type": "code",
      "execution_count": null,
      "id": "aa3a3afa-5283-491c-a054-bc89404846c5",
      "metadata": {
        "id": "aa3a3afa-5283-491c-a054-bc89404846c5"
      },
      "outputs": [],
      "source": [
        "s5.add(4)"
      ]
    },
    {
      "cell_type": "code",
      "execution_count": null,
      "id": "c37c9b7d-25fe-4d04-88ae-400d294a2211",
      "metadata": {
        "id": "c37c9b7d-25fe-4d04-88ae-400d294a2211",
        "outputId": "0ad56ed4-1481-4d7b-fa7c-d1a02736753b"
      },
      "outputs": [
        {
          "data": {
            "text/plain": [
              "{12, 2, 23, 234, 342, 4, 45, 456, 567, 789, 'abc'}"
            ]
          },
          "execution_count": 163,
          "metadata": {},
          "output_type": "execute_result"
        }
      ],
      "source": [
        "s5"
      ]
    },
    {
      "cell_type": "code",
      "execution_count": null,
      "id": "f2e0ee43-4fa2-47ba-a348-6537c76b50e7",
      "metadata": {
        "id": "f2e0ee43-4fa2-47ba-a348-6537c76b50e7"
      },
      "outputs": [],
      "source": [
        "s5.remove(2)"
      ]
    },
    {
      "cell_type": "code",
      "execution_count": null,
      "id": "efa0e33a-4538-4ea2-b26b-5747c45fa462",
      "metadata": {
        "id": "efa0e33a-4538-4ea2-b26b-5747c45fa462",
        "outputId": "a7f1af14-1a5d-4122-a442-ee28c4c63958"
      },
      "outputs": [
        {
          "data": {
            "text/plain": [
              "{12, 23, 234, 342, 4, 45, 456, 567, 789, 'abc'}"
            ]
          },
          "execution_count": 165,
          "metadata": {},
          "output_type": "execute_result"
        }
      ],
      "source": [
        "s5"
      ]
    },
    {
      "cell_type": "code",
      "execution_count": null,
      "id": "d3080149-aeea-45df-8377-2452bfc35f7c",
      "metadata": {
        "id": "d3080149-aeea-45df-8377-2452bfc35f7c",
        "outputId": "97241948-50b0-41fc-cd7a-356be3492376"
      },
      "outputs": [
        {
          "data": {
            "text/plain": [
              "[23424, 'pwskills', 'kumar', 'data science']"
            ]
          },
          "execution_count": 166,
          "metadata": {},
          "output_type": "execute_result"
        }
      ],
      "source": [
        "l4"
      ]
    },
    {
      "cell_type": "code",
      "execution_count": null,
      "id": "891f437c-c7ef-4c83-bff4-4c2decbed90f",
      "metadata": {
        "id": "891f437c-c7ef-4c83-bff4-4c2decbed90f",
        "outputId": "a85709cf-ab49-4997-b42c-250f02ca4a67"
      },
      "outputs": [
        {
          "data": {
            "text/plain": [
              "[30, 4, 5, 6]"
            ]
          },
          "execution_count": 167,
          "metadata": {},
          "output_type": "execute_result"
        }
      ],
      "source": [
        "l5"
      ]
    },
    {
      "cell_type": "code",
      "execution_count": null,
      "id": "0a177eac-8562-4631-88e6-eeed99c29d4b",
      "metadata": {
        "id": "0a177eac-8562-4631-88e6-eeed99c29d4b"
      },
      "outputs": [],
      "source": [
        "l5.append(l4)"
      ]
    },
    {
      "cell_type": "code",
      "execution_count": null,
      "id": "6d785533-8f86-4521-abf5-0d5ce4e89858",
      "metadata": {
        "id": "6d785533-8f86-4521-abf5-0d5ce4e89858",
        "outputId": "3d2a75e4-6581-4194-ea5e-bf206e866f50"
      },
      "outputs": [
        {
          "ename": "TypeError",
          "evalue": "can only concatenate list (not \"str\") to list",
          "output_type": "error",
          "traceback": [
            "\u001b[0;31m---------------------------------------------------------------------------\u001b[0m",
            "\u001b[0;31mTypeError\u001b[0m                                 Traceback (most recent call last)",
            "Cell \u001b[0;32mIn[169], line 1\u001b[0m\n\u001b[0;32m----> 1\u001b[0m \u001b[43ml4\u001b[49m\u001b[43m \u001b[49m\u001b[38;5;241;43m+\u001b[39;49m\u001b[43m \u001b[49m\u001b[38;5;124;43m\"\u001b[39;49m\u001b[38;5;124;43msudh\u001b[39;49m\u001b[38;5;124;43m\"\u001b[39;49m\n",
            "\u001b[0;31mTypeError\u001b[0m: can only concatenate list (not \"str\") to list"
          ]
        }
      ],
      "source": [
        "l4 + \"sudh\""
      ]
    },
    {
      "cell_type": "code",
      "execution_count": null,
      "id": "f3ea4057-333a-4bf3-a7b2-97046db19e20",
      "metadata": {
        "id": "f3ea4057-333a-4bf3-a7b2-97046db19e20",
        "outputId": "388f420c-db36-45e1-962e-ff43c51805c7"
      },
      "outputs": [
        {
          "data": {
            "text/plain": [
              "[30, 4, 5, 6, [23424, 'pwskills', 'kumar', 'data science']]"
            ]
          },
          "execution_count": 171,
          "metadata": {},
          "output_type": "execute_result"
        }
      ],
      "source": [
        "l5"
      ]
    },
    {
      "cell_type": "code",
      "execution_count": null,
      "id": "622e7fc1-a28b-4287-a311-47533a482c7f",
      "metadata": {
        "id": "622e7fc1-a28b-4287-a311-47533a482c7f"
      },
      "outputs": [],
      "source": [
        "s = {1,2,3,1,2,3,4,5,5}"
      ]
    },
    {
      "cell_type": "code",
      "execution_count": null,
      "id": "0af687f4-db6d-4eee-90fe-2322a2c83778",
      "metadata": {
        "id": "0af687f4-db6d-4eee-90fe-2322a2c83778",
        "outputId": "a9dcb5ab-0253-4766-f0fd-9bfd6eb6b489"
      },
      "outputs": [
        {
          "data": {
            "text/plain": [
              "{1, 2, 3, 4, 5}"
            ]
          },
          "execution_count": 173,
          "metadata": {},
          "output_type": "execute_result"
        }
      ],
      "source": [
        "s"
      ]
    },
    {
      "cell_type": "code",
      "execution_count": null,
      "id": "72e128c0-af36-4e3c-9ea1-0df58a398abd",
      "metadata": {
        "id": "72e128c0-af36-4e3c-9ea1-0df58a398abd"
      },
      "outputs": [],
      "source": [
        "s1 ={34,45665,45645,65,664,23,1,1,23,43,4}"
      ]
    },
    {
      "cell_type": "code",
      "execution_count": null,
      "id": "7b4476a3-84ee-4267-b113-baf4ea667aa7",
      "metadata": {
        "id": "7b4476a3-84ee-4267-b113-baf4ea667aa7",
        "outputId": "e4cbd14c-697f-45d4-ac9b-9e3cb73c761f"
      },
      "outputs": [
        {
          "data": {
            "text/plain": [
              "{1, 4, 23, 34, 43, 65, 664, 45645, 45665}"
            ]
          },
          "execution_count": 176,
          "metadata": {},
          "output_type": "execute_result"
        }
      ],
      "source": [
        "s1"
      ]
    },
    {
      "cell_type": "code",
      "execution_count": null,
      "id": "e2e072a7-a304-4287-88ba-2e0b7e5a0faf",
      "metadata": {
        "id": "e2e072a7-a304-4287-88ba-2e0b7e5a0faf"
      },
      "outputs": [],
      "source": [
        "l = [3,4,5,6,6,6]"
      ]
    },
    {
      "cell_type": "code",
      "execution_count": null,
      "id": "b6522fef-7466-42ac-8b97-04e8da3840e8",
      "metadata": {
        "id": "b6522fef-7466-42ac-8b97-04e8da3840e8"
      },
      "outputs": [],
      "source": [
        "l.insert(-1 , \"jay\")"
      ]
    },
    {
      "cell_type": "code",
      "execution_count": null,
      "id": "c2fc1fe8-a468-471a-8b09-dadaee1f1f1b",
      "metadata": {
        "id": "c2fc1fe8-a468-471a-8b09-dadaee1f1f1b",
        "outputId": "a90d1f7a-11af-465b-f921-6ac7ae503ab8"
      },
      "outputs": [
        {
          "data": {
            "text/plain": [
              "[3, 4, 'jay', 5, 6, 6, 'jay', 6]"
            ]
          },
          "execution_count": 182,
          "metadata": {},
          "output_type": "execute_result"
        }
      ],
      "source": [
        "l"
      ]
    },
    {
      "cell_type": "code",
      "execution_count": null,
      "id": "bddcaa92-b367-4061-aeae-053652048bcf",
      "metadata": {
        "id": "bddcaa92-b367-4061-aeae-053652048bcf"
      },
      "outputs": [],
      "source": [
        "l3=[\"q\",'a','y','z','3','4']\n"
      ]
    },
    {
      "cell_type": "code",
      "execution_count": null,
      "id": "19683040-8508-495e-b6a1-6895c0ca2af2",
      "metadata": {
        "id": "19683040-8508-495e-b6a1-6895c0ca2af2"
      },
      "outputs": [],
      "source": [
        "l3.sort()"
      ]
    },
    {
      "cell_type": "code",
      "execution_count": null,
      "id": "7c0abf0a-a540-459b-a9e9-c79339590655",
      "metadata": {
        "id": "7c0abf0a-a540-459b-a9e9-c79339590655",
        "outputId": "83edbf49-214f-41f8-8976-0481d11a427d"
      },
      "outputs": [
        {
          "data": {
            "text/plain": [
              "['3', '4', 'a', 'q', 'y', 'z']"
            ]
          },
          "execution_count": 185,
          "metadata": {},
          "output_type": "execute_result"
        }
      ],
      "source": [
        "l3"
      ]
    },
    {
      "cell_type": "code",
      "execution_count": null,
      "id": "9041d730-09bf-4462-a3c9-9c4a8e52bf64",
      "metadata": {
        "id": "9041d730-09bf-4462-a3c9-9c4a8e52bf64",
        "outputId": "c9efa5f9-c72b-4f5f-e173-6443e9f68a7d"
      },
      "outputs": [
        {
          "data": {
            "text/plain": [
              "[3, 4, 'jay', 5, 6, 6, 'jay', 6]"
            ]
          },
          "execution_count": 186,
          "metadata": {},
          "output_type": "execute_result"
        }
      ],
      "source": [
        "s = \"sudh\"\n",
        "l"
      ]
    },
    {
      "cell_type": "code",
      "execution_count": null,
      "id": "44ea7565-32de-44a6-a027-06e6a70b4428",
      "metadata": {
        "id": "44ea7565-32de-44a6-a027-06e6a70b4428"
      },
      "outputs": [],
      "source": [
        "l.insert(3,list(s))"
      ]
    },
    {
      "cell_type": "code",
      "execution_count": null,
      "id": "8a9699a0-6510-47e4-8a44-6cd2a6bedf0f",
      "metadata": {
        "id": "8a9699a0-6510-47e4-8a44-6cd2a6bedf0f",
        "outputId": "88afb865-f26d-4f58-c184-4c0e99929ff5"
      },
      "outputs": [
        {
          "data": {
            "text/plain": [
              "[3, 4, 'jay', ['s', 'u', 'd', 'h'], 5, 6, 6, 'jay', 6]"
            ]
          },
          "execution_count": 189,
          "metadata": {},
          "output_type": "execute_result"
        }
      ],
      "source": [
        "l"
      ]
    },
    {
      "cell_type": "code",
      "execution_count": null,
      "id": "cc356900-b54d-406e-bf4a-d3841cdf9f31",
      "metadata": {
        "id": "cc356900-b54d-406e-bf4a-d3841cdf9f31"
      },
      "outputs": [],
      "source": [
        "l = [3,4,5,55, [1,3,4,5,6]]"
      ]
    },
    {
      "cell_type": "code",
      "execution_count": null,
      "id": "d3833e59-0cee-4ed6-88ae-c34c71d3b2e3",
      "metadata": {
        "id": "d3833e59-0cee-4ed6-88ae-c34c71d3b2e3",
        "outputId": "941bba2b-5093-4aeb-a204-ff6070538e35"
      },
      "outputs": [
        {
          "data": {
            "text/plain": [
              "[23424, 'pwskills', 'kumar', 'data science']"
            ]
          },
          "execution_count": 191,
          "metadata": {},
          "output_type": "execute_result"
        }
      ],
      "source": [
        "l4"
      ]
    },
    {
      "cell_type": "code",
      "execution_count": null,
      "id": "389c6dcd-b4df-494f-a4ac-2b8da7df41d9",
      "metadata": {
        "id": "389c6dcd-b4df-494f-a4ac-2b8da7df41d9"
      },
      "outputs": [],
      "source": [
        "l4.extend(l)"
      ]
    },
    {
      "cell_type": "code",
      "execution_count": null,
      "id": "b4255ba6-a16d-46e8-890f-82dff97fd1a5",
      "metadata": {
        "id": "b4255ba6-a16d-46e8-890f-82dff97fd1a5",
        "outputId": "79641c61-0bf9-4724-e141-84deb92a4e6c"
      },
      "outputs": [
        {
          "data": {
            "text/plain": [
              "[23424, 'pwskills', 'kumar', 'data science', 3, 4, 5, 55, [1, 3, 4, 5, 6]]"
            ]
          },
          "execution_count": 193,
          "metadata": {},
          "output_type": "execute_result"
        }
      ],
      "source": [
        "l4"
      ]
    },
    {
      "cell_type": "code",
      "execution_count": null,
      "id": "16b2b93d-cee8-4a0a-8ae2-d3111f3f5ddd",
      "metadata": {
        "id": "16b2b93d-cee8-4a0a-8ae2-d3111f3f5ddd",
        "outputId": "bd91b6f2-fbd1-418e-c16e-e9beed8adbe3"
      },
      "outputs": [
        {
          "data": {
            "text/plain": [
              "['kumar', 'data science', 3]"
            ]
          },
          "execution_count": 195,
          "metadata": {},
          "output_type": "execute_result"
        }
      ],
      "source": [
        "l4[2:5]"
      ]
    },
    {
      "cell_type": "code",
      "execution_count": null,
      "id": "d2d07e26-5602-4575-94e8-b05eec3271d7",
      "metadata": {
        "id": "d2d07e26-5602-4575-94e8-b05eec3271d7"
      },
      "outputs": [],
      "source": [
        "m = \"pwskills\""
      ]
    },
    {
      "cell_type": "code",
      "execution_count": null,
      "id": "37922311-d81e-4411-bae3-b235fdc8a5f2",
      "metadata": {
        "id": "37922311-d81e-4411-bae3-b235fdc8a5f2",
        "outputId": "15671e87-705c-42f9-9a9d-4724f9ca284a"
      },
      "outputs": [
        {
          "data": {
            "text/plain": [
              "'p'"
            ]
          },
          "execution_count": 197,
          "metadata": {},
          "output_type": "execute_result"
        }
      ],
      "source": [
        "m[::9999]"
      ]
    },
    {
      "cell_type": "code",
      "execution_count": null,
      "id": "c7d58b6d-93bc-440f-8526-f27892b172f3",
      "metadata": {
        "id": "c7d58b6d-93bc-440f-8526-f27892b172f3",
        "outputId": "a9ac8e84-4d62-484d-b603-89e3281f29cc"
      },
      "outputs": [
        {
          "data": {
            "text/plain": [
              "[3, 4, 5, 55, [1, 3, 4, 5, 6]]"
            ]
          },
          "execution_count": 198,
          "metadata": {},
          "output_type": "execute_result"
        }
      ],
      "source": [
        "l"
      ]
    },
    {
      "cell_type": "code",
      "execution_count": null,
      "id": "480443ea-1b16-45c1-9c9a-777f509490e7",
      "metadata": {
        "id": "480443ea-1b16-45c1-9c9a-777f509490e7"
      },
      "outputs": [],
      "source": [
        "l.append(324)"
      ]
    },
    {
      "cell_type": "code",
      "execution_count": null,
      "id": "8bb8445a-8b9a-4fac-b0c5-0ebd1b847c69",
      "metadata": {
        "id": "8bb8445a-8b9a-4fac-b0c5-0ebd1b847c69",
        "outputId": "4a0c33b5-73c4-4250-fdf2-812332954c7d"
      },
      "outputs": [
        {
          "data": {
            "text/plain": [
              "[3, 4, 5, 55, [1, 3, 4, 5, 6], 324]"
            ]
          },
          "execution_count": 200,
          "metadata": {},
          "output_type": "execute_result"
        }
      ],
      "source": [
        "l"
      ]
    },
    {
      "cell_type": "code",
      "execution_count": null,
      "id": "1ceee627-ab42-4a89-97ac-ded09a8e536d",
      "metadata": {
        "id": "1ceee627-ab42-4a89-97ac-ded09a8e536d"
      },
      "outputs": [],
      "source": [
        "l.extend(\"sudh\")"
      ]
    },
    {
      "cell_type": "code",
      "execution_count": null,
      "id": "24fb78a4-7f65-40ec-9191-5f88fa69f678",
      "metadata": {
        "id": "24fb78a4-7f65-40ec-9191-5f88fa69f678",
        "outputId": "59cf24d9-4476-4b63-8d94-bd28ce78a2a8"
      },
      "outputs": [
        {
          "data": {
            "text/plain": [
              "[3, 4, 5, 55, [1, 3, 4, 5, 6], 324, 's', 'u', 'd', 'h']"
            ]
          },
          "execution_count": 202,
          "metadata": {},
          "output_type": "execute_result"
        }
      ],
      "source": [
        "l"
      ]
    },
    {
      "cell_type": "code",
      "execution_count": null,
      "id": "d4dbe97d-6914-4926-a8d8-6a38211a9d4e",
      "metadata": {
        "id": "d4dbe97d-6914-4926-a8d8-6a38211a9d4e"
      },
      "outputs": [],
      "source": []
    }
  ],
  "metadata": {
    "kernelspec": {
      "display_name": "Python 3 (ipykernel)",
      "language": "python",
      "name": "python3"
    },
    "language_info": {
      "codemirror_mode": {
        "name": "ipython",
        "version": 3
      },
      "file_extension": ".py",
      "mimetype": "text/x-python",
      "name": "python",
      "nbconvert_exporter": "python",
      "pygments_lexer": "ipython3",
      "version": "3.10.8"
    },
    "colab": {
      "provenance": []
    }
  },
  "nbformat": 4,
  "nbformat_minor": 5
}